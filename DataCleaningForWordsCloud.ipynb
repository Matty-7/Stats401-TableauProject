{
 "cells": [
  {
   "cell_type": "code",
   "execution_count": 1,
   "metadata": {},
   "outputs": [
    {
     "data": {
      "text/plain": [
       "(['[Three-point shooter] James made long-distance three-pointers during the Lakers era. #NBATucaoConference#O web link',\n",
       "  \"Fee Note: For the 76ers, the NBA trade deadline may be more about reducing the salary cap than adding reinforcements! As long as Embiid stays healthy and Harden continues to pass first and serve as a triple-double threat, they can make progress in the playoffs. Therefore, the 76ers are not expected to make any major lineup changes before the NBA trade deadline at 3 pm on Thursday (4 am on February 10th, Beijing time)! ! ! But they want a backup center, a backup point guard, and a shooter in the trade market. According to a report from Yahoo Sports on Saturday, Jazz big man Vanderbilt is the 76ers' main signing target to replace Embiid. However, the Jazz want a first-round pick to trade the five-year veteran! The 6-foot-9 Vanderbilt is a power forward but has the ability to guard all three frontcourt positions. The Pacers consider him an attractive option. The Jazz have discussed the possibility of trading Vanderbilt and Beasley to the Knicks, Trail Blazers and Hawks in a package! Philadelphia may need a third-party team to get involved and make a trade for him. Because Philadelphia doesn't have a ton of tradable assets, but the 76ers have an available roster spot, they might be in a position to get a player in need on the buyout market! According to Spotrac data, the 76ers currently have a total salary of $151.4 million on the roster. They have to take off $1.1 million to get under the league's $150.3 million luxury tax threshold! This is why Korkmaz (salary is $5 million this season) and Springer (salary is $2.1 million) have been mentioned as candidates for the 76ers to consider trading! PhillyVoice: First reported that Georges Niang ($3.4 million) and House ($4.1 million) may also be candidates for the trade! (Because Niang has trade value) According to sources, second-year guard Springer does not have much trade value in the league! #Philadelphia76ers#\",\n",
       "  \"#NBA新春春夜# [McCollum made a sudden stop and hit a three-pointer] How strong is the shooter’s touch? CJ McCollum stepped out to catch the ball, faced Brown's defense and went straight to the free throw line. He made a shot while out of balance and caused the opponent to foul at the same time! #lakersvspelicans##NBA ZeroDistance# [Poke: ONBA player power list to cheer for your favorite players! 】LNBA’s Weibo video\",\n",
       "  \"The Lakers' 4-for-2 trade plan involved Westbrook in exchange for Irving + Joha. The Nets had to rebuild suddenly, and Irving applied for a trade to the Nets. NBA reporter Shams reported that Irving prefers to be traded before the trade deadline. Another reporter, Woj, reported that Durant was surprised that Irving applied for a trade. He said that the entire team, including Durant, felt caught off guard. It's really surprising, because the Nets are currently ranked fourth in the Eastern Conference, the situation is still very good, and they have hope of winning the championship. Irving applied for a trade at this time, which hurt the Nets very much. Famous reporter Haynes reported that Irving informed the Nets that if he is not traded to other teams, he will leave directly as a free agent in the offseason. Durant also applied for a trade to the Nets last offseason, but he ultimately stayed with the Nets. Obviously, Irving and Durant's situation is different. Durant's contract still has four years, and there is no doubt about Durant's playing attitude. As long as he plays, he will go all out. Irving's contract expires at the end of this season, and his playing attitude is far inferior to Durant's. Irving applied for a trade, and the Lakers became the most popular next destination. During last offseason, the Lakers hoped to acquire Irving. In order to get Irving, the Lakers proposed a trade plan of Westbrook + 2 first-round picks, but the Nets rejected it. The Lakers once again offered Irving, and Westbrook + 2 first-round picks are still the main body of the transaction. ESPN reported an epic 4-for-2 trade plan. The specific content is that the Lakers will send Westbrook, Lonnie Walker, and two first-round picks to acquire Irving and Joe Harris. Goodbye Westbrook, the Lakers still have to send him away. Although his performance has improved after switching to the bench, the Lakers are worried that Westbrook will be targeted in the playoffs. Westbrook's poor shooting characteristics are indeed easy to target in the playoffs. Irving has a problem with his playing attitude, but he is very capable, and his partnership with James is very effective. In the three years that James and Irving worked together, they reached the finals and won a championship. In this epic 4-for-2 trade plan, the Lakers not only got Irving, but also shooter Joe Harris. This season, Joe Harris shot 40.9% from three-point range. Throughout his career, Joe Harris has shot 43.6% from three-point range. The arrival of Irving and Joe Harris will greatly improve the Lakers' three-point shooting ability, and this is the Lakers' weakest shortcoming now. Although the Lakers are only ranked 12th in the Western Conference, they are very close to the teams in front of them. As long as the Lakers do not suffer serious injuries after the trade, it will be almost easy to get a play-off spot. As long as they can play in the play-offs, the Lakers can compete for the championship. First they traded for Rui Hachimura, and then they were expected to trade for Irving and Joe Harris. The Lakers went crazy in the trading market. For the Nets, after the transaction, their hopes of winning the championship will be greatly reduced. Westbrook has provided very little help to the Nets, and Lonnie Walker is like a nerve knife. After the trade, their strength dropped a notch, and their hopes of winning the championship were basically dashed. But the Nets had no choice. Irving applied for a trade, and the Nets could only stop their losses. They gave away Joe Harris' big contract and got young Lonnie Walker and two first-round picks. It doesn’t matter where you play this season. From the moment Irving applied for a trade, the Nets were already passive. Maybe the Nets are already regretting why they didn't send him away last offseason.\",\n",
       "  'NBA legend Vince Carter talked about the Nets, a team he once played for, on the \"GetUp\" program. \"The Nets have a chance to compete for the championship. When they stayed healthy, the team\\'s momentum was very good. I think Ben Simmons is the X factor. Can Simmons be aggressive? Can Simmons break into the penalty area and force the opponent to defend? Him? \"The Nets were doing great before KD got injured, and they have shooters now, and they can space the floor. Sometimes Simmons is just not aggressive enough. He must be aggressive, because in the playoffs, opponents will choose Simmons to defeat them. ” #Brooklyn Nets #Brooklyn Nets'],\n",
       " 2613)"
      ]
     },
     "execution_count": 1,
     "metadata": {},
     "output_type": "execute_result"
    }
   ],
   "source": [
    "# Importing the necessary libraries to handle the CSV file\n",
    "import pandas as pd\n",
    "\n",
    "# Reading the CSV file into a DataFrame\n",
    "file_path = 'NBA-Shooters-RawData.csv'\n",
    "df = pd.read_csv(file_path)\n",
    "\n",
    "# Extracting the contents of the column \"Weibo text\"\n",
    "weibo_text_column = df.get('Weibo text', None)\n",
    "\n",
    "# Check if the \"Weibo text\" column exists and display its contents\n",
    "if weibo_text_column is not None:\n",
    "    weibo_text_contents = weibo_text_column.tolist()\n",
    "else:\n",
    "    weibo_text_contents = \"The column 'Weibo text' does not exist in the CSV file.\"\n",
    "\n",
    "weibo_text_contents[:5], len(weibo_text_contents) if weibo_text_column is not None else 0  # Displaying the first 5 elements and the total length\n"
   ]
  },
  {
   "cell_type": "code",
   "execution_count": 2,
   "metadata": {},
   "outputs": [
    {
     "data": {
      "text/plain": [
       "(['threepoint shooter james made longdistance threepointers during the lakers era nbatucaoconferenceo web link',\n",
       "  'fee note for the 76ers the nba trade deadline may be more about reducing the salary cap than adding reinforcements as long as embiid stays healthy and harden continues to pass first and serve as a tripledouble threat they can make progress in the playoffs therefore the 76ers are not expected to make any major lineup changes before the nba trade deadline at 3 pm on thursday 4 am on february 10th beijing time   but they want a backup center a backup point guard and a shooter in the trade market according to a report from yahoo sports on saturday jazz big man vanderbilt is the 76ers main signing target to replace embiid however the jazz want a firstround pick to trade the fiveyear veteran the 6foot9 vanderbilt is a power forward but has the ability to guard all three frontcourt positions the pacers consider him an attractive option the jazz have discussed the possibility of trading vanderbilt and beasley to the knicks trail blazers and hawks in a package philadelphia may need a thirdparty team to get involved and make a trade for him because philadelphia doesnt have a ton of tradable assets but the 76ers have an available roster spot they might be in a position to get a player in need on the buyout market according to spotrac data the 76ers currently have a total salary of 1514 million on the roster they have to take off 11 million to get under the leagues 1503 million luxury tax threshold this is why korkmaz salary is 5 million this season and springer salary is 21 million have been mentioned as candidates for the 76ers to consider trading phillyvoice first reported that georges niang 34 million and house 41 million may also be candidates for the trade because niang has trade value according to sources secondyear guard springer does not have much trade value in the league philadelphia76ers',\n",
       "  'nba mccollum made a sudden stop and hit a threepointer how strong is the shooters touch cj mccollum stepped out to catch the ball faced browns defense and went straight to the free throw line he made a shot while out of balance and caused the opponent to foul at the same time lakersvspelicansnba zerodistance poke onba player power list to cheer for your favorite players lnbas weibo video',\n",
       "  'the lakers 4for2 trade plan involved westbrook in exchange for irving  joha the nets had to rebuild suddenly and irving applied for a trade to the nets nba reporter shams reported that irving prefers to be traded before the trade deadline another reporter woj reported that durant was surprised that irving applied for a trade he said that the entire team including durant felt caught off guard its really surprising because the nets are currently ranked fourth in the eastern conference the situation is still very good and they have hope of winning the championship irving applied for a trade at this time which hurt the nets very much famous reporter haynes reported that irving informed the nets that if he is not traded to other teams he will leave directly as a free agent in the offseason durant also applied for a trade to the nets last offseason but he ultimately stayed with the nets obviously irving and durants situation is different durants contract still has four years and there is no doubt about durants playing attitude as long as he plays he will go all out irvings contract expires at the end of this season and his playing attitude is far inferior to durants irving applied for a trade and the lakers became the most popular next destination during last offseason the lakers hoped to acquire irving in order to get irving the lakers proposed a trade plan of westbrook  2 firstround picks but the nets rejected it the lakers once again offered irving and westbrook  2 firstround picks are still the main body of the transaction espn reported an epic 4for2 trade plan the specific content is that the lakers will send westbrook lonnie walker and two firstround picks to acquire irving and joe harris goodbye westbrook the lakers still have to send him away although his performance has improved after switching to the bench the lakers are worried that westbrook will be targeted in the playoffs westbrooks poor shooting characteristics are indeed easy to target in the playoffs irving has a problem with his playing attitude but he is very capable and his partnership with james is very effective in the three years that james and irving worked together they reached the finals and won a championship in this epic 4for2 trade plan the lakers not only got irving but also shooter joe harris this season joe harris shot 409 from threepoint range throughout his career joe harris has shot 436 from threepoint range the arrival of irving and joe harris will greatly improve the lakers threepoint shooting ability and this is the lakers weakest shortcoming now although the lakers are only ranked 12th in the western conference they are very close to the teams in front of them as long as the lakers do not suffer serious injuries after the trade it will be almost easy to get a playoff spot as long as they can play in the playoffs the lakers can compete for the championship first they traded for rui hachimura and then they were expected to trade for irving and joe harris the lakers went crazy in the trading market for the nets after the transaction their hopes of winning the championship will be greatly reduced westbrook has provided very little help to the nets and lonnie walker is like a nerve knife after the trade their strength dropped a notch and their hopes of winning the championship were basically dashed but the nets had no choice irving applied for a trade and the nets could only stop their losses they gave away joe harris big contract and got young lonnie walker and two firstround picks it doesnt matter where you play this season from the moment irving applied for a trade the nets were already passive maybe the nets are already regretting why they didnt send him away last offseason',\n",
       "  'nba legend vince carter talked about the nets a team he once played for on the getup program the nets have a chance to compete for the championship when they stayed healthy the teams momentum was very good i think ben simmons is the x factor can simmons be aggressive can simmons break into the penalty area and force the opponent to defend him the nets were doing great before kd got injured and they have shooters now and they can space the floor sometimes simmons is just not aggressive enough he must be aggressive because in the playoffs opponents will choose simmons to defeat them  brooklyn nets brooklyn nets'],\n",
       " 2613)"
      ]
     },
     "execution_count": 2,
     "metadata": {},
     "output_type": "execute_result"
    }
   ],
   "source": [
    "import re\n",
    "\n",
    "# Lowercasing the text\n",
    "weibo_text_lower = [text.lower() for text in weibo_text_contents]\n",
    "\n",
    "# Removing special characters using regular expressions\n",
    "weibo_text_clean = [re.sub(r'[^a-zA-Z0-9\\s]', '', text) for text in weibo_text_lower]\n",
    "\n",
    "# Displaying the first 5 cleaned elements and the total length of the cleaned text\n",
    "weibo_text_clean[:5], len(weibo_text_clean)\n"
   ]
  },
  {
   "cell_type": "code",
   "execution_count": 3,
   "metadata": {},
   "outputs": [
    {
     "name": "stdout",
     "output_type": "stream",
     "text": [
      "Requirement already satisfied: nltk in /opt/homebrew/lib/python3.11/site-packages (3.8.1)\n",
      "Requirement already satisfied: click in /opt/homebrew/lib/python3.11/site-packages (from nltk) (8.1.3)\n",
      "Requirement already satisfied: joblib in /opt/homebrew/lib/python3.11/site-packages (from nltk) (1.2.0)\n",
      "Requirement already satisfied: regex>=2021.8.3 in /opt/homebrew/lib/python3.11/site-packages (from nltk) (2023.3.23)\n",
      "Requirement already satisfied: tqdm in /opt/homebrew/lib/python3.11/site-packages (from nltk) (4.65.0)\n",
      "Note: you may need to restart the kernel to use updated packages.\n"
     ]
    }
   ],
   "source": [
    "pip install nltk\n"
   ]
  },
  {
   "cell_type": "code",
   "execution_count": 4,
   "metadata": {},
   "outputs": [
    {
     "name": "stderr",
     "output_type": "stream",
     "text": [
      "[nltk_data] Downloading package stopwords to\n",
      "[nltk_data]     /Users/huanjingheng/nltk_data...\n",
      "[nltk_data]   Unzipping corpora/stopwords.zip.\n"
     ]
    },
    {
     "data": {
      "text/plain": [
       "True"
      ]
     },
     "execution_count": 4,
     "metadata": {},
     "output_type": "execute_result"
    }
   ],
   "source": [
    "import nltk\n",
    "nltk.download('stopwords')"
   ]
  },
  {
   "cell_type": "code",
   "execution_count": 5,
   "metadata": {},
   "outputs": [
    {
     "data": {
      "text/plain": [
       "['threepoint shooter james made longdistance threepointers lakers era nbatucaoconferenceo web link',\n",
       " 'fee note 76ers nba trade deadline may reducing salary cap adding reinforcements long embiid stays healthy harden continues pass first serve tripledouble threat make progress playoffs therefore 76ers expected make major lineup changes nba trade deadline 3 pm thursday 4 february 10th beijing time want backup center backup point guard shooter trade market according report yahoo sports saturday jazz big man vanderbilt 76ers main signing target replace embiid however jazz want firstround pick trade fiveyear veteran 6foot9 vanderbilt power forward ability guard three frontcourt positions pacers consider attractive option jazz discussed possibility trading vanderbilt beasley knicks trail blazers hawks package philadelphia may need thirdparty team get involved make trade philadelphia doesnt ton tradable assets 76ers available roster spot might position get player need buyout market according spotrac data 76ers currently total salary 1514 million roster take 11 million get leagues 1503 million luxury tax threshold korkmaz salary 5 million season springer salary 21 million mentioned candidates 76ers consider trading phillyvoice first reported georges niang 34 million house 41 million may also candidates trade niang trade value according sources secondyear guard springer much trade value league philadelphia76ers',\n",
       " 'nba mccollum made sudden stop hit threepointer strong shooters touch cj mccollum stepped catch ball faced browns defense went straight free throw line made shot balance caused opponent foul time lakersvspelicansnba zerodistance poke onba player power list cheer favorite players lnbas weibo video',\n",
       " 'lakers 4for2 trade plan involved westbrook exchange irving joha nets rebuild suddenly irving applied trade nets nba reporter shams reported irving prefers traded trade deadline another reporter woj reported durant surprised irving applied trade said entire team including durant felt caught guard really surprising nets currently ranked fourth eastern conference situation still good hope winning championship irving applied trade time hurt nets much famous reporter haynes reported irving informed nets traded teams leave directly free agent offseason durant also applied trade nets last offseason ultimately stayed nets obviously irving durants situation different durants contract still four years doubt durants playing attitude long plays go irvings contract expires end season playing attitude far inferior durants irving applied trade lakers became popular next destination last offseason lakers hoped acquire irving order get irving lakers proposed trade plan westbrook 2 firstround picks nets rejected lakers offered irving westbrook 2 firstround picks still main body transaction espn reported epic 4for2 trade plan specific content lakers send westbrook lonnie walker two firstround picks acquire irving joe harris goodbye westbrook lakers still send away although performance improved switching bench lakers worried westbrook targeted playoffs westbrooks poor shooting characteristics indeed easy target playoffs irving problem playing attitude capable partnership james effective three years james irving worked together reached finals championship epic 4for2 trade plan lakers got irving also shooter joe harris season joe harris shot 409 threepoint range throughout career joe harris shot 436 threepoint range arrival irving joe harris greatly improve lakers threepoint shooting ability lakers weakest shortcoming although lakers ranked 12th western conference close teams front long lakers suffer serious injuries trade almost easy get playoff spot long play playoffs lakers compete championship first traded rui hachimura expected trade irving joe harris lakers went crazy trading market nets transaction hopes winning championship greatly reduced westbrook provided little help nets lonnie walker like nerve knife trade strength dropped notch hopes winning championship basically dashed nets choice irving applied trade nets could stop losses gave away joe harris big contract got young lonnie walker two firstround picks doesnt matter play season moment irving applied trade nets already passive maybe nets already regretting didnt send away last offseason',\n",
       " 'nba legend vince carter talked nets team played getup program nets chance compete championship stayed healthy teams momentum good think ben simmons x factor simmons aggressive simmons break penalty area force opponent defend nets great kd got injured shooters space floor sometimes simmons aggressive enough must aggressive playoffs opponents choose simmons defeat brooklyn nets brooklyn nets']"
      ]
     },
     "execution_count": 5,
     "metadata": {},
     "output_type": "execute_result"
    }
   ],
   "source": [
    "from nltk.corpus import stopwords\n",
    "\n",
    "# Tokenizing the cleaned text (splitting the text into words)\n",
    "weibo_text_tokenized = [text.split() for text in weibo_text_clean]\n",
    "\n",
    "# Defining a set of English stop words\n",
    "stop_words = set(stopwords.words('english'))\n",
    "\n",
    "# Removing stop words from the tokenized text\n",
    "weibo_text_no_stopwords = [[word for word in tokens if word not in stop_words] for tokens in weibo_text_tokenized]\n",
    "\n",
    "# Converting the token lists back to strings for further processing or visualization\n",
    "weibo_text_final = [\" \".join(tokens) for tokens in weibo_text_no_stopwords]\n",
    "\n",
    "# Displaying the first 5 cleaned, tokenized, and stop words removed text entries\n",
    "weibo_text_final[:5]\n"
   ]
  },
  {
   "cell_type": "code",
   "execution_count": 7,
   "metadata": {},
   "outputs": [
    {
     "data": {
      "text/plain": [
       "'CleanedDataOfNBAShooters.csv'"
      ]
     },
     "execution_count": 7,
     "metadata": {},
     "output_type": "execute_result"
    }
   ],
   "source": [
    "# Create a new DataFrame with the cleaned text\n",
    "cleaned_df = pd.DataFrame({'Cleaned_Weibo_Text': weibo_text_final})\n",
    "\n",
    "# Save the cleaned DataFrame to a new CSV file\n",
    "cleaned_file_path = 'CleanedDataOfNBAShooters.csv'\n",
    "cleaned_df.to_csv(cleaned_file_path, index=False)\n",
    "\n",
    "cleaned_file_path\n"
   ]
  }
 ],
 "metadata": {
  "kernelspec": {
   "display_name": "Python 3",
   "language": "python",
   "name": "python3"
  },
  "language_info": {
   "codemirror_mode": {
    "name": "ipython",
    "version": 3
   },
   "file_extension": ".py",
   "mimetype": "text/x-python",
   "name": "python",
   "nbconvert_exporter": "python",
   "pygments_lexer": "ipython3",
   "version": "3.11.4"
  },
  "orig_nbformat": 4
 },
 "nbformat": 4,
 "nbformat_minor": 2
}
